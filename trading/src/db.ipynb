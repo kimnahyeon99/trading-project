{
 "cells": [
  {
   "cell_type": "code",
   "execution_count": null,
   "id": "8fa6a7dd",
   "metadata": {},
   "outputs": [
    {
     "name": "stdout",
     "output_type": "stream",
     "text": [
      "처리 중: AAPL → ticker_aapl\n"
     ]
    }
   ],
   "source": [
    "import psycopg2\n",
    "import pandas as pd\n",
    "\n",
    "# minute 데이터베이스 연결 (소스)\n",
    "source_conn = psycopg2.connect(\n",
    "    host='192.168.40.193',\n",
    "    dbname='minute',\n",
    "    user='postgres',\n",
    "    password='mysecretpassword'\n",
    ")\n",
    "\n",
    "# mydb 데이터베이스 연결 (타겟)\n",
    "target_conn = psycopg2.connect(\n",
    "    host='192.168.40.193',\n",
    "    dbname='mydb',\n",
    "    user='postgres',\n",
    "    password='mysecretpassword'\n",
    ")\n",
    "\n",
    "source_cursor = source_conn.cursor()\n",
    "target_cursor = target_conn.cursor()\n",
    "\n",
    "symbols = [\"AAPL\", \"TSLA\", \"NVDA\", \"META\", \"GOOGL\", \"GOOG\", \"MSFT\", \"AMZN\"]\n",
    "\n",
    "for symbol in symbols:\n",
    "    table_name = f\"ticker_{symbol.lower()}\"\n",
    "    print(f\"처리 중: {symbol} → {table_name}\")\n",
    "    \n",
    "    # 1. mydb에 테이블 생성 (존재하지 않는 경우)\n",
    "    create_table_query = f\"\"\"\n",
    "    CREATE TABLE IF NOT EXISTS {table_name} (\n",
    "        timestamp TIMESTAMP,\n",
    "        open DECIMAL(10,4),\n",
    "        high DECIMAL(10,4),\n",
    "        low DECIMAL(10,4),\n",
    "        close DECIMAL(10,4),\n",
    "        volume BIGINT,\n",
    "        PRIMARY KEY (timestamp)\n",
    "    );\n",
    "    \"\"\"\n",
    "    target_cursor.execute(create_table_query)\n",
    "    \n",
    "    # 2. minute 데이터베이스에서 데이터 조회\n",
    "    select_query = \"\"\"\n",
    "    SELECT timestamp, open, high, low, close, volume\n",
    "    FROM us_market_data\n",
    "    WHERE symbol = %s\n",
    "    \"\"\"\n",
    "    source_cursor.execute(select_query, (symbol,))\n",
    "    data = source_cursor.fetchall()\n",
    "    \n",
    "    # 3. mydb에 데이터 삽입\n",
    "    if data:\n",
    "        insert_query = f\"\"\"\n",
    "        INSERT INTO {table_name} (timestamp, open, high, low, close, volume)\n",
    "        VALUES (%s, %s, %s, %s, %s, %s)\n",
    "        ON CONFLICT (timestamp) DO NOTHING;\n",
    "        \"\"\"\n",
    "        target_cursor.executemany(insert_query, data)\n",
    "        print(f\"  → {len(data)}개 행 처리됨\")\n",
    "    else:\n",
    "        print(f\"  → 데이터 없음\")\n",
    "\n",
    "# 커밋 및 연결 종료\n",
    "target_conn.commit()\n",
    "source_conn.close()\n",
    "target_conn.close()\n",
    "print(\"모든 작업 완료!\")"
   ]
  },
  {
   "cell_type": "code",
   "execution_count": null,
   "id": "cd714ae4",
   "metadata": {},
   "outputs": [],
   "source": []
  }
 ],
 "metadata": {
  "kernelspec": {
   "display_name": "finalproject",
   "language": "python",
   "name": "python3"
  },
  "language_info": {
   "codemirror_mode": {
    "name": "ipython",
    "version": 3
   },
   "file_extension": ".py",
   "mimetype": "text/x-python",
   "name": "python",
   "nbconvert_exporter": "python",
   "pygments_lexer": "ipython3",
   "version": "3.10.16"
  }
 },
 "nbformat": 4,
 "nbformat_minor": 5
}
